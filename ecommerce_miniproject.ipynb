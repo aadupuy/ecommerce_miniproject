{
 "cells": [
  {
   "cell_type": "code",
   "execution_count": 184,
   "metadata": {
    "_cell_guid": "b1076dfc-b9ad-4769-8c92-a6c4dae69d19",
    "_uuid": "8f2839f25d086af736a60e9eeb907d3b93b6e0e5",
    "execution": {
     "iopub.execute_input": "2025-10-14T09:41:13.355654Z",
     "iopub.status.busy": "2025-10-14T09:41:13.355462Z",
     "iopub.status.idle": "2025-10-14T09:41:17.698833Z",
     "shell.execute_reply": "2025-10-14T09:41:17.698049Z",
     "shell.execute_reply.started": "2025-10-14T09:41:13.355635Z"
    },
    "trusted": true
   },
   "outputs": [],
   "source": [
    "import pandas as pd\n",
    "import numpy as np\n",
    "import matplotlib.pyplot as plt"
   ]
  },
  {
   "cell_type": "markdown",
   "metadata": {},
   "source": [
    "Goal: predict whether a user will purchase an item using an e-commerce dataset"
   ]
  },
  {
   "cell_type": "markdown",
   "metadata": {},
   "source": [
    "Loading data: online retail dataset from Kaggle"
   ]
  },
  {
   "cell_type": "code",
   "execution_count": 185,
   "metadata": {
    "execution": {
     "iopub.execute_input": "2025-10-14T09:53:47.963017Z",
     "iopub.status.busy": "2025-10-14T09:53:47.962697Z",
     "iopub.status.idle": "2025-10-14T09:53:48.803725Z",
     "shell.execute_reply": "2025-10-14T09:53:48.802749Z",
     "shell.execute_reply.started": "2025-10-14T09:53:47.962992Z"
    },
    "trusted": true
   },
   "outputs": [
    {
     "data": {
      "text/html": [
       "<div>\n",
       "<style scoped>\n",
       "    .dataframe tbody tr th:only-of-type {\n",
       "        vertical-align: middle;\n",
       "    }\n",
       "\n",
       "    .dataframe tbody tr th {\n",
       "        vertical-align: top;\n",
       "    }\n",
       "\n",
       "    .dataframe thead th {\n",
       "        text-align: right;\n",
       "    }\n",
       "</style>\n",
       "<table border=\"1\" class=\"dataframe\">\n",
       "  <thead>\n",
       "    <tr style=\"text-align: right;\">\n",
       "      <th></th>\n",
       "      <th>InvoiceNo</th>\n",
       "      <th>StockCode</th>\n",
       "      <th>Description</th>\n",
       "      <th>Quantity</th>\n",
       "      <th>InvoiceDate</th>\n",
       "      <th>UnitPrice</th>\n",
       "      <th>CustomerID</th>\n",
       "      <th>Country</th>\n",
       "    </tr>\n",
       "  </thead>\n",
       "  <tbody>\n",
       "    <tr>\n",
       "      <th>0</th>\n",
       "      <td>536365</td>\n",
       "      <td>85123A</td>\n",
       "      <td>WHITE HANGING HEART T-LIGHT HOLDER</td>\n",
       "      <td>6</td>\n",
       "      <td>12/1/2010 8:26</td>\n",
       "      <td>2.55</td>\n",
       "      <td>17850.0</td>\n",
       "      <td>United Kingdom</td>\n",
       "    </tr>\n",
       "    <tr>\n",
       "      <th>1</th>\n",
       "      <td>536365</td>\n",
       "      <td>71053</td>\n",
       "      <td>WHITE METAL LANTERN</td>\n",
       "      <td>6</td>\n",
       "      <td>12/1/2010 8:26</td>\n",
       "      <td>3.39</td>\n",
       "      <td>17850.0</td>\n",
       "      <td>United Kingdom</td>\n",
       "    </tr>\n",
       "    <tr>\n",
       "      <th>2</th>\n",
       "      <td>536365</td>\n",
       "      <td>84406B</td>\n",
       "      <td>CREAM CUPID HEARTS COAT HANGER</td>\n",
       "      <td>8</td>\n",
       "      <td>12/1/2010 8:26</td>\n",
       "      <td>2.75</td>\n",
       "      <td>17850.0</td>\n",
       "      <td>United Kingdom</td>\n",
       "    </tr>\n",
       "    <tr>\n",
       "      <th>3</th>\n",
       "      <td>536365</td>\n",
       "      <td>84029G</td>\n",
       "      <td>KNITTED UNION FLAG HOT WATER BOTTLE</td>\n",
       "      <td>6</td>\n",
       "      <td>12/1/2010 8:26</td>\n",
       "      <td>3.39</td>\n",
       "      <td>17850.0</td>\n",
       "      <td>United Kingdom</td>\n",
       "    </tr>\n",
       "    <tr>\n",
       "      <th>4</th>\n",
       "      <td>536365</td>\n",
       "      <td>84029E</td>\n",
       "      <td>RED WOOLLY HOTTIE WHITE HEART.</td>\n",
       "      <td>6</td>\n",
       "      <td>12/1/2010 8:26</td>\n",
       "      <td>3.39</td>\n",
       "      <td>17850.0</td>\n",
       "      <td>United Kingdom</td>\n",
       "    </tr>\n",
       "  </tbody>\n",
       "</table>\n",
       "</div>"
      ],
      "text/plain": [
       "  InvoiceNo StockCode                          Description  Quantity  \\\n",
       "0    536365    85123A   WHITE HANGING HEART T-LIGHT HOLDER         6   \n",
       "1    536365     71053                  WHITE METAL LANTERN         6   \n",
       "2    536365    84406B       CREAM CUPID HEARTS COAT HANGER         8   \n",
       "3    536365    84029G  KNITTED UNION FLAG HOT WATER BOTTLE         6   \n",
       "4    536365    84029E       RED WOOLLY HOTTIE WHITE HEART.         6   \n",
       "\n",
       "      InvoiceDate  UnitPrice  CustomerID         Country  \n",
       "0  12/1/2010 8:26       2.55     17850.0  United Kingdom  \n",
       "1  12/1/2010 8:26       3.39     17850.0  United Kingdom  \n",
       "2  12/1/2010 8:26       2.75     17850.0  United Kingdom  \n",
       "3  12/1/2010 8:26       3.39     17850.0  United Kingdom  \n",
       "4  12/1/2010 8:26       3.39     17850.0  United Kingdom  "
      ]
     },
     "execution_count": 185,
     "metadata": {},
     "output_type": "execute_result"
    }
   ],
   "source": [
    "retail_data = pd.read_csv('data.csv', encoding='ISO-8859-1')\n",
    "retail_data.head()"
   ]
  },
  {
   "cell_type": "code",
   "execution_count": 186,
   "metadata": {
    "trusted": true
   },
   "outputs": [
    {
     "name": "stdout",
     "output_type": "stream",
     "text": [
      "<class 'pandas.core.frame.DataFrame'>\n",
      "RangeIndex: 541909 entries, 0 to 541908\n",
      "Data columns (total 8 columns):\n",
      " #   Column       Non-Null Count   Dtype  \n",
      "---  ------       --------------   -----  \n",
      " 0   InvoiceNo    541909 non-null  object \n",
      " 1   StockCode    541909 non-null  object \n",
      " 2   Description  540455 non-null  object \n",
      " 3   Quantity     541909 non-null  int64  \n",
      " 4   InvoiceDate  541909 non-null  object \n",
      " 5   UnitPrice    541909 non-null  float64\n",
      " 6   CustomerID   406829 non-null  float64\n",
      " 7   Country      541909 non-null  object \n",
      "dtypes: float64(2), int64(1), object(5)\n",
      "memory usage: 33.1+ MB\n"
     ]
    }
   ],
   "source": [
    "retail_data.info()"
   ]
  },
  {
   "cell_type": "markdown",
   "metadata": {},
   "source": [
    "Exploring and cleaning the data:"
   ]
  },
  {
   "cell_type": "markdown",
   "metadata": {},
   "source": [
    "InvoiceNo are either numeric (completed transaction), or start with C or A (canceled or adjusted transactions)\n",
    "\n",
    "We will remove canceled and adjusted transactions, keeping only completed transactions"
   ]
  },
  {
   "cell_type": "code",
   "execution_count": 187,
   "metadata": {},
   "outputs": [
    {
     "name": "stdout",
     "output_type": "stream",
     "text": [
      "Number of unique transactions: 25900\n",
      "Number of transactions with missing InvoiceNo: 0\n",
      "Number of unique canceled or adjusted transactions:  3839\n"
     ]
    }
   ],
   "source": [
    "# Number of unique transactions\n",
    "print(f'Number of unique transactions: {retail_data.InvoiceNo.unique().shape[0]:5d}')\n",
    "\n",
    "# Transactions with missing InvoiceNo\n",
    "missing_invoices = retail_data[retail_data['InvoiceNo'].isna()]\n",
    "print(f\"Number of transactions with missing InvoiceNo: {missing_invoices.shape[0]:1d}\")\n",
    "\n",
    "# Canceled or adjusted transactions (non-numeric InvoiceNo ; starting with C or A)\n",
    "canceled_invoices = retail_data[~retail_data['InvoiceNo'].str.isnumeric()]\n",
    "print(f\"Number of unique canceled or adjusted transactions: {canceled_invoices['InvoiceNo'].unique().shape[0]:5d}\")\n",
    "\n",
    "# Remove canceled or adjusted transactions\n",
    "cleaned_retail_data = retail_data[retail_data['InvoiceNo'].str.isnumeric()].copy()\n",
    "cleaned_retail_data['InvoiceNo'] = cleaned_retail_data['InvoiceNo'].astype(int)"
   ]
  },
  {
   "cell_type": "markdown",
   "metadata": {},
   "source": [
    "Also drop rows with missing CustomerID"
   ]
  },
  {
   "cell_type": "code",
   "execution_count": 188,
   "metadata": {},
   "outputs": [
    {
     "name": "stdout",
     "output_type": "stream",
     "text": [
      "Number of transactions with missing CustomerID: 134694\n"
     ]
    }
   ],
   "source": [
    "# Find rows with missing CustomerID\n",
    "missing_customerid = cleaned_retail_data[cleaned_retail_data['CustomerID'].isna()]\n",
    "print(f\"Number of transactions with missing CustomerID: {missing_customerid.shape[0]:1d}\")\n",
    "\n",
    "# Drop rows with missing CustomerID\n",
    "cleaned_retail_data = cleaned_retail_data.dropna(subset=['CustomerID'])\n",
    "cleaned_retail_data['CustomerID'] = cleaned_retail_data['CustomerID'].astype(int)"
   ]
  },
  {
   "cell_type": "markdown",
   "metadata": {},
   "source": [
    "More data cleaning: convert InvoiceDate to datetime format and compute total price"
   ]
  },
  {
   "cell_type": "code",
   "execution_count": 189,
   "metadata": {},
   "outputs": [],
   "source": [
    "# Convert InvoiceDate to datetime\n",
    "cleaned_retail_data['InvoiceDate'] = pd.to_datetime(cleaned_retail_data['InvoiceDate'], format='%m/%d/%Y %H:%M')\n",
    "\n",
    "# Compute TotalPrice\n",
    "cleaned_retail_data['TotalPrice'] = cleaned_retail_data['Quantity'] * cleaned_retail_data['UnitPrice']"
   ]
  },
  {
   "cell_type": "code",
   "execution_count": 190,
   "metadata": {},
   "outputs": [
    {
     "data": {
      "text/html": [
       "<div>\n",
       "<style scoped>\n",
       "    .dataframe tbody tr th:only-of-type {\n",
       "        vertical-align: middle;\n",
       "    }\n",
       "\n",
       "    .dataframe tbody tr th {\n",
       "        vertical-align: top;\n",
       "    }\n",
       "\n",
       "    .dataframe thead th {\n",
       "        text-align: right;\n",
       "    }\n",
       "</style>\n",
       "<table border=\"1\" class=\"dataframe\">\n",
       "  <thead>\n",
       "    <tr style=\"text-align: right;\">\n",
       "      <th></th>\n",
       "      <th>InvoiceNo</th>\n",
       "      <th>StockCode</th>\n",
       "      <th>Description</th>\n",
       "      <th>Quantity</th>\n",
       "      <th>InvoiceDate</th>\n",
       "      <th>UnitPrice</th>\n",
       "      <th>CustomerID</th>\n",
       "      <th>Country</th>\n",
       "      <th>TotalPrice</th>\n",
       "    </tr>\n",
       "  </thead>\n",
       "  <tbody>\n",
       "    <tr>\n",
       "      <th>0</th>\n",
       "      <td>536365</td>\n",
       "      <td>85123A</td>\n",
       "      <td>WHITE HANGING HEART T-LIGHT HOLDER</td>\n",
       "      <td>6</td>\n",
       "      <td>2010-12-01 08:26:00</td>\n",
       "      <td>2.55</td>\n",
       "      <td>17850</td>\n",
       "      <td>United Kingdom</td>\n",
       "      <td>15.30</td>\n",
       "    </tr>\n",
       "    <tr>\n",
       "      <th>1</th>\n",
       "      <td>536365</td>\n",
       "      <td>71053</td>\n",
       "      <td>WHITE METAL LANTERN</td>\n",
       "      <td>6</td>\n",
       "      <td>2010-12-01 08:26:00</td>\n",
       "      <td>3.39</td>\n",
       "      <td>17850</td>\n",
       "      <td>United Kingdom</td>\n",
       "      <td>20.34</td>\n",
       "    </tr>\n",
       "    <tr>\n",
       "      <th>2</th>\n",
       "      <td>536365</td>\n",
       "      <td>84406B</td>\n",
       "      <td>CREAM CUPID HEARTS COAT HANGER</td>\n",
       "      <td>8</td>\n",
       "      <td>2010-12-01 08:26:00</td>\n",
       "      <td>2.75</td>\n",
       "      <td>17850</td>\n",
       "      <td>United Kingdom</td>\n",
       "      <td>22.00</td>\n",
       "    </tr>\n",
       "    <tr>\n",
       "      <th>3</th>\n",
       "      <td>536365</td>\n",
       "      <td>84029G</td>\n",
       "      <td>KNITTED UNION FLAG HOT WATER BOTTLE</td>\n",
       "      <td>6</td>\n",
       "      <td>2010-12-01 08:26:00</td>\n",
       "      <td>3.39</td>\n",
       "      <td>17850</td>\n",
       "      <td>United Kingdom</td>\n",
       "      <td>20.34</td>\n",
       "    </tr>\n",
       "    <tr>\n",
       "      <th>4</th>\n",
       "      <td>536365</td>\n",
       "      <td>84029E</td>\n",
       "      <td>RED WOOLLY HOTTIE WHITE HEART.</td>\n",
       "      <td>6</td>\n",
       "      <td>2010-12-01 08:26:00</td>\n",
       "      <td>3.39</td>\n",
       "      <td>17850</td>\n",
       "      <td>United Kingdom</td>\n",
       "      <td>20.34</td>\n",
       "    </tr>\n",
       "  </tbody>\n",
       "</table>\n",
       "</div>"
      ],
      "text/plain": [
       "   InvoiceNo StockCode                          Description  Quantity  \\\n",
       "0     536365    85123A   WHITE HANGING HEART T-LIGHT HOLDER         6   \n",
       "1     536365     71053                  WHITE METAL LANTERN         6   \n",
       "2     536365    84406B       CREAM CUPID HEARTS COAT HANGER         8   \n",
       "3     536365    84029G  KNITTED UNION FLAG HOT WATER BOTTLE         6   \n",
       "4     536365    84029E       RED WOOLLY HOTTIE WHITE HEART.         6   \n",
       "\n",
       "          InvoiceDate  UnitPrice  CustomerID         Country  TotalPrice  \n",
       "0 2010-12-01 08:26:00       2.55       17850  United Kingdom       15.30  \n",
       "1 2010-12-01 08:26:00       3.39       17850  United Kingdom       20.34  \n",
       "2 2010-12-01 08:26:00       2.75       17850  United Kingdom       22.00  \n",
       "3 2010-12-01 08:26:00       3.39       17850  United Kingdom       20.34  \n",
       "4 2010-12-01 08:26:00       3.39       17850  United Kingdom       20.34  "
      ]
     },
     "execution_count": 190,
     "metadata": {},
     "output_type": "execute_result"
    }
   ],
   "source": [
    "cleaned_retail_data.head()"
   ]
  },
  {
   "cell_type": "code",
   "execution_count": 191,
   "metadata": {},
   "outputs": [
    {
     "name": "stdout",
     "output_type": "stream",
     "text": [
      "<class 'pandas.core.frame.DataFrame'>\n",
      "Index: 397924 entries, 0 to 541908\n",
      "Data columns (total 9 columns):\n",
      " #   Column       Non-Null Count   Dtype         \n",
      "---  ------       --------------   -----         \n",
      " 0   InvoiceNo    397924 non-null  int64         \n",
      " 1   StockCode    397924 non-null  object        \n",
      " 2   Description  397924 non-null  object        \n",
      " 3   Quantity     397924 non-null  int64         \n",
      " 4   InvoiceDate  397924 non-null  datetime64[ns]\n",
      " 5   UnitPrice    397924 non-null  float64       \n",
      " 6   CustomerID   397924 non-null  int64         \n",
      " 7   Country      397924 non-null  object        \n",
      " 8   TotalPrice   397924 non-null  float64       \n",
      "dtypes: datetime64[ns](1), float64(2), int64(3), object(3)\n",
      "memory usage: 30.4+ MB\n"
     ]
    }
   ],
   "source": [
    "cleaned_retail_data.info()"
   ]
  },
  {
   "cell_type": "markdown",
   "metadata": {},
   "source": [
    "Exploratory Data Analysis"
   ]
  },
  {
   "cell_type": "code",
   "execution_count": 192,
   "metadata": {},
   "outputs": [
    {
     "name": "stdout",
     "output_type": "stream",
     "text": [
      "Number of unique users:  4339\n",
      "Average number of purchases per user: 91.71\n",
      "Median number of purchases per user: 41.00\n",
      "Max number of purchases per user: 7847.00\n",
      "Average number of purchases per item: 108.57\n",
      "Median number of purchases per item: 49.00\n",
      "Max number of purchases per item: 2035.00\n"
     ]
    }
   ],
   "source": [
    "# Get number of unique users\n",
    "num_unique_users = cleaned_retail_data['CustomerID'].nunique()\n",
    "print(f'Number of unique users: {num_unique_users:5d}')\n",
    "\n",
    "# Get number of purchases per user\n",
    "purchases_per_user = cleaned_retail_data.groupby('CustomerID').size()\n",
    "print(f'Average number of purchases per user: {purchases_per_user.mean():.2f}')\n",
    "print(f'Median number of purchases per user: {purchases_per_user.median():.2f}')\n",
    "print(f'Max number of purchases per user: {purchases_per_user.max():.2f}')\n",
    "\n",
    "# Get number of purchases per item\n",
    "purchases_per_item = cleaned_retail_data.groupby('StockCode').size()\n",
    "print(f'Average number of purchases per item: {purchases_per_item.mean():.2f}')\n",
    "print(f'Median number of purchases per item: {purchases_per_item.median():.2f}')\n",
    "print(f'Max number of purchases per item: {purchases_per_item.max():.2f}')"
   ]
  },
  {
   "cell_type": "code",
   "execution_count": 193,
   "metadata": {},
   "outputs": [
    {
     "name": "stdout",
     "output_type": "stream",
     "text": [
      "StockCode: 85123A, Description: WHITE HANGING HEART T-LIGHT HOLDER\n",
      "StockCode: 22423, Description: REGENCY CAKESTAND 3 TIER\n",
      "StockCode: 85099B, Description: JUMBO BAG RED RETROSPOT\n",
      "StockCode: 84879, Description: ASSORTED COLOUR BIRD ORNAMENT\n",
      "StockCode: 47566, Description: PARTY BUNTING\n",
      "StockCode: 20725, Description: LUNCH BAG RED RETROSPOT\n",
      "StockCode: 22720, Description: SET OF 3 CAKE TINS PANTRY DESIGN \n",
      "StockCode: 20727, Description: LUNCH BAG  BLACK SKULL.\n",
      "StockCode: POST, Description: POSTAGE\n",
      "StockCode: 23203, Description: JUMBO BAG DOILEY PATTERNS\n"
     ]
    },
    {
     "data": {
      "image/png": "[encoded data removed]",
      "text/plain": [
       "<Figure size 600x600 with 1 Axes>"
      ]
     },
     "metadata": {},
     "output_type": "display_data"
    }
   ],
   "source": [
    "# Visualize top-selling items\n",
    "top_selling_items = purchases_per_item.sort_values(ascending=False).head(10)\n",
    "f, ax = plt.subplots(1,1, figsize=(6, 6))\n",
    "top_selling_items.plot(kind='bar')\n",
    "ax.set_title('Top 10 Selling Items')\n",
    "ax.set_xlabel('StockCode')\n",
    "ax.set_ylabel('Number of Purchases')\n",
    "\n",
    "# Print corresponding Description for each StockCode\n",
    "for stock_code in top_selling_items.index:\n",
    "    description = cleaned_retail_data[cleaned_retail_data['StockCode'] == stock_code]['Description'].iloc[0]\n",
    "    print(f'StockCode: {stock_code}, Description: {description}')"
   ]
  },
  {
   "cell_type": "code",
   "execution_count": 194,
   "metadata": {},
   "outputs": [
    {
     "data": {
      "text/plain": [
       "Text(0, 0.5, 'Number of Purchases')"
      ]
     },
     "execution_count": 194,
     "metadata": {},
     "output_type": "execute_result"
    },
    {
     "data": {
      "image/png": "[encoded data removed]",
      "text/plain": [
       "<Figure size 1000x600 with 1 Axes>"
      ]
     },
     "metadata": {},
     "output_type": "display_data"
    }
   ],
   "source": [
    "# Visualize purchase trends over time\n",
    "purchases_over_time = cleaned_retail_data.set_index('InvoiceDate').resample('D').size()\n",
    "f, ax = plt.subplots(1,1, figsize=(10, 6))\n",
    "ax.scatter(purchases_over_time.index, purchases_over_time.values, s=10)\n",
    "ax.set_title('Purchases Over Time')\n",
    "ax.set_xlabel('Date')\n",
    "ax.set_ylabel('Number of Purchases')"
   ]
  },
  {
   "cell_type": "markdown",
   "metadata": {},
   "source": [
    "We notice a spike around November / December + some days with 0 purchases"
   ]
  },
  {
   "cell_type": "code",
   "execution_count": 195,
   "metadata": {},
   "outputs": [
    {
     "name": "stdout",
     "output_type": "stream",
     "text": [
      "Number of days with zero purchases:  69\n",
      "Days with zero purchases: DatetimeIndex(['2010-12-04', '2010-12-11', '2010-12-18', '2010-12-24',\n",
      "               '2010-12-25', '2010-12-26', '2010-12-27', '2010-12-28',\n",
      "               '2010-12-29', '2010-12-30', '2010-12-31', '2011-01-01',\n",
      "               '2011-01-02', '2011-01-03', '2011-01-08', '2011-01-15',\n",
      "               '2011-01-22', '2011-01-29', '2011-02-05', '2011-02-12',\n",
      "               '2011-02-19', '2011-02-26', '2011-03-05', '2011-03-12',\n",
      "               '2011-03-19', '2011-03-26', '2011-04-02', '2011-04-09',\n",
      "               '2011-04-16', '2011-04-22', '2011-04-23', '2011-04-24',\n",
      "               '2011-04-25', '2011-04-29', '2011-04-30', '2011-05-02',\n",
      "               '2011-05-07', '2011-05-14', '2011-05-21', '2011-05-28',\n",
      "               '2011-05-30', '2011-06-04', '2011-06-11', '2011-06-18',\n",
      "               '2011-06-25', '2011-07-02', '2011-07-09', '2011-07-16',\n",
      "               '2011-07-23', '2011-07-30', '2011-08-06', '2011-08-13',\n",
      "               '2011-08-20', '2011-08-27', '2011-08-29', '2011-09-03',\n",
      "               '2011-09-10', '2011-09-17', '2011-09-24', '2011-10-01',\n",
      "               '2011-10-08', '2011-10-15', '2011-10-22', '2011-10-29',\n",
      "               '2011-11-05', '2011-11-12', '2011-11-19', '2011-11-26',\n",
      "               '2011-12-03'],\n",
      "              dtype='datetime64[ns]', name='InvoiceDate', freq=None)\n"
     ]
    }
   ],
   "source": [
    "# Seems like we got a lot of 0 purchases on certain days. Let's investigate\n",
    "zero_purchase_days = purchases_over_time[purchases_over_time == 0]\n",
    "print(f'Number of days with zero purchases: {zero_purchase_days.shape[0]:3d}')\n",
    "print(f'Days with zero purchases: {zero_purchase_days.index}')"
   ]
  },
  {
   "cell_type": "code",
   "execution_count": 196,
   "metadata": {},
   "outputs": [
    {
     "data": {
      "text/plain": [
       "Text(0, 0.5, 'Number of Purchases')"
      ]
     },
     "execution_count": 196,
     "metadata": {},
     "output_type": "execute_result"
    },
    {
     "data": {
      "image/png": "[encoded data removed]",
      "text/plain": [
       "<Figure size 600x600 with 1 Axes>"
      ]
     },
     "metadata": {},
     "output_type": "display_data"
    }
   ],
   "source": [
    "# Look at quantity distributions\n",
    "f, ax = plt.subplots(1,1, figsize=(6, 6))\n",
    "ax.hist(cleaned_retail_data['Quantity'], bins=50, range=(0, 100))\n",
    "ax.set_title('Quantity Distribution')\n",
    "ax.set_xlabel('Quantity')\n",
    "ax.set_ylabel('Number of Purchases')"
   ]
  },
  {
   "cell_type": "markdown",
   "metadata": {},
   "source": [
    "Most customers buy only a few units per transaction, but few transactions involve very large quantities"
   ]
  },
  {
   "cell_type": "markdown",
   "metadata": {},
   "source": [
    "Look for seasonality or patterns by month/week/day\n"
   ]
  },
  {
   "cell_type": "code",
   "execution_count": 197,
   "metadata": {},
   "outputs": [
    {
     "name": "stderr",
     "output_type": "stream",
     "text": [
      "/var/folders/gn/kmp970g50zgf_030nc9dcr5m0000gn/T/ipykernel_40546/1670157243.py:9: FutureWarning: 'M' is deprecated and will be removed in a future version, please use 'ME' instead.\n",
      "  monthly_counts = cleaned_retail_data.resample('M', on='InvoiceDate').size()\n"
     ]
    },
    {
     "data": {
      "text/plain": [
       "Text(0, 0.5, 'Number of Purchases')"
      ]
     },
     "execution_count": 197,
     "metadata": {},
     "output_type": "execute_result"
    },
    {
     "data": {
      "image/png": "[encoded data removed]",
      "text/plain": [
       "<Figure size 1000x400 with 1 Axes>"
      ]
     },
     "metadata": {},
     "output_type": "display_data"
    }
   ],
   "source": [
    "# Creating time-based features\n",
    "cleaned_retail_data['Year'] = cleaned_retail_data['InvoiceDate'].dt.year\n",
    "cleaned_retail_data['Month'] = cleaned_retail_data['InvoiceDate'].dt.month\n",
    "cleaned_retail_data['Week'] = cleaned_retail_data['InvoiceDate'].dt.isocalendar().week\n",
    "cleaned_retail_data['DayOfWeek'] = cleaned_retail_data['InvoiceDate'].dt.dayofweek  # Monday=0\n",
    "cleaned_retail_data['Hour'] = cleaned_retail_data['InvoiceDate'].dt.hour\n",
    "\n",
    "# Look for monthly seasonality\n",
    "monthly_counts = cleaned_retail_data.resample('M', on='InvoiceDate').size()\n",
    "plt.figure(figsize=(10,4))\n",
    "plt.plot(monthly_counts.index, monthly_counts.values)\n",
    "plt.title('Number of Transactions per Month')\n",
    "plt.xlabel('Month')\n",
    "plt.ylabel('Number of Purchases')"
   ]
  },
  {
   "cell_type": "code",
   "execution_count": 198,
   "metadata": {},
   "outputs": [
    {
     "name": "stderr",
     "output_type": "stream",
     "text": [
      "/var/folders/gn/kmp970g50zgf_030nc9dcr5m0000gn/T/ipykernel_40546/355485069.py:4: FutureWarning: 'M' is deprecated and will be removed in a future version, please use 'ME' instead.\n",
      "  monthly_sales = cleaned_retail_data.resample('M', on='InvoiceDate')['TotalPrice'].sum()\n"
     ]
    },
    {
     "data": {
      "text/plain": [
       "Text(0, 0.5, 'Revenue (£)')"
      ]
     },
     "execution_count": 198,
     "metadata": {},
     "output_type": "execute_result"
    },
    {
     "data": {
      "image/png": "[encoded data removed]",
      "text/plain": [
       "<Figure size 1000x400 with 1 Axes>"
      ]
     },
     "metadata": {},
     "output_type": "display_data"
    }
   ],
   "source": [
    "# Look at sales revenue instead\n",
    "cleaned_retail_data['TotalPrice'] = cleaned_retail_data['Quantity'] * cleaned_retail_data['UnitPrice']\n",
    "\n",
    "monthly_sales = cleaned_retail_data.resample('M', on='InvoiceDate')['TotalPrice'].sum()\n",
    "\n",
    "plt.figure(figsize=(10,4))\n",
    "plt.plot(monthly_sales.index, monthly_sales.values)\n",
    "plt.title('Monthly Sales Revenue')\n",
    "plt.xlabel('Month')\n",
    "plt.ylabel('Revenue (£)')"
   ]
  },
  {
   "cell_type": "markdown",
   "metadata": {},
   "source": [
    "Clear seasonal pattern: spike around November / December = holiday season"
   ]
  },
  {
   "cell_type": "code",
   "execution_count": 199,
   "metadata": {},
   "outputs": [
    {
     "data": {
      "text/plain": [
       "Text(0, 0.5, 'Revenue (£)')"
      ]
     },
     "execution_count": 199,
     "metadata": {},
     "output_type": "execute_result"
    },
    {
     "data": {
      "image/png": "[encoded data removed]",
      "text/plain": [
       "<Figure size 1000x400 with 1 Axes>"
      ]
     },
     "metadata": {},
     "output_type": "display_data"
    }
   ],
   "source": [
    "# Look for weekly trends\n",
    "weekly_sales = cleaned_retail_data.resample('W', on='InvoiceDate')['TotalPrice'].sum()\n",
    "plt.figure(figsize=(10,4))\n",
    "plt.plot(weekly_sales.index, weekly_sales.values)\n",
    "plt.title('Weekly Sales')\n",
    "plt.xlabel('Week')\n",
    "plt.ylabel('Revenue (£)')"
   ]
  },
  {
   "cell_type": "code",
   "execution_count": 200,
   "metadata": {},
   "outputs": [
    {
     "data": {
      "text/plain": [
       "Text(0, 0.5, 'Revenue (£)')"
      ]
     },
     "execution_count": 200,
     "metadata": {},
     "output_type": "execute_result"
    },
    {
     "data": {
      "image/png": "[encoded data removed]",
      "text/plain": [
       "<Figure size 600x400 with 1 Axes>"
      ]
     },
     "metadata": {},
     "output_type": "display_data"
    }
   ],
   "source": [
    "day_of_week_sales = cleaned_retail_data.groupby('DayOfWeek')['TotalPrice'].sum()\n",
    "\n",
    "plt.figure(figsize=(6,4))\n",
    "day_of_week_sales.plot(kind='bar')\n",
    "plt.title('Sales by Day of Week')\n",
    "plt.xlabel('Day of Week (0=Mon, 6=Sun)')\n",
    "plt.ylabel('Revenue (£)')"
   ]
  },
  {
   "cell_type": "markdown",
   "metadata": {},
   "source": [
    "Feature Engineering"
   ]
  },
  {
   "cell_type": "code",
   "execution_count": 201,
   "metadata": {},
   "outputs": [],
   "source": [
    "# Encode categorical features: StockCode, Country\n",
    "cleaned_retail_data['StockCode'] = cleaned_retail_data['StockCode'].astype('category').cat.codes\n",
    "cleaned_retail_data['Country'] = cleaned_retail_data['Country'].astype('category').cat.codes"
   ]
  },
  {
   "cell_type": "code",
   "execution_count": 202,
   "metadata": {},
   "outputs": [
    {
     "data": {
      "text/html": [
       "<div>\n",
       "<style scoped>\n",
       "    .dataframe tbody tr th:only-of-type {\n",
       "        vertical-align: middle;\n",
       "    }\n",
       "\n",
       "    .dataframe tbody tr th {\n",
       "        vertical-align: top;\n",
       "    }\n",
       "\n",
       "    .dataframe thead th {\n",
       "        text-align: right;\n",
       "    }\n",
       "</style>\n",
       "<table border=\"1\" class=\"dataframe\">\n",
       "  <thead>\n",
       "    <tr style=\"text-align: right;\">\n",
       "      <th></th>\n",
       "      <th>InvoiceNo</th>\n",
       "      <th>StockCode</th>\n",
       "      <th>Description</th>\n",
       "      <th>Quantity</th>\n",
       "      <th>InvoiceDate</th>\n",
       "      <th>UnitPrice</th>\n",
       "      <th>CustomerID</th>\n",
       "      <th>Country</th>\n",
       "      <th>TotalPrice</th>\n",
       "      <th>Year</th>\n",
       "      <th>Month</th>\n",
       "      <th>Week</th>\n",
       "      <th>DayOfWeek</th>\n",
       "      <th>Hour</th>\n",
       "    </tr>\n",
       "  </thead>\n",
       "  <tbody>\n",
       "    <tr>\n",
       "      <th>0</th>\n",
       "      <td>536365</td>\n",
       "      <td>3233</td>\n",
       "      <td>WHITE HANGING HEART T-LIGHT HOLDER</td>\n",
       "      <td>6</td>\n",
       "      <td>2010-12-01 08:26:00</td>\n",
       "      <td>2.55</td>\n",
       "      <td>17850</td>\n",
       "      <td>35</td>\n",
       "      <td>15.30</td>\n",
       "      <td>2010</td>\n",
       "      <td>12</td>\n",
       "      <td>48</td>\n",
       "      <td>2</td>\n",
       "      <td>8</td>\n",
       "    </tr>\n",
       "    <tr>\n",
       "      <th>1</th>\n",
       "      <td>536365</td>\n",
       "      <td>2643</td>\n",
       "      <td>WHITE METAL LANTERN</td>\n",
       "      <td>6</td>\n",
       "      <td>2010-12-01 08:26:00</td>\n",
       "      <td>3.39</td>\n",
       "      <td>17850</td>\n",
       "      <td>35</td>\n",
       "      <td>20.34</td>\n",
       "      <td>2010</td>\n",
       "      <td>12</td>\n",
       "      <td>48</td>\n",
       "      <td>2</td>\n",
       "      <td>8</td>\n",
       "    </tr>\n",
       "    <tr>\n",
       "      <th>2</th>\n",
       "      <td>536365</td>\n",
       "      <td>2847</td>\n",
       "      <td>CREAM CUPID HEARTS COAT HANGER</td>\n",
       "      <td>8</td>\n",
       "      <td>2010-12-01 08:26:00</td>\n",
       "      <td>2.75</td>\n",
       "      <td>17850</td>\n",
       "      <td>35</td>\n",
       "      <td>22.00</td>\n",
       "      <td>2010</td>\n",
       "      <td>12</td>\n",
       "      <td>48</td>\n",
       "      <td>2</td>\n",
       "      <td>8</td>\n",
       "    </tr>\n",
       "    <tr>\n",
       "      <th>3</th>\n",
       "      <td>536365</td>\n",
       "      <td>2795</td>\n",
       "      <td>KNITTED UNION FLAG HOT WATER BOTTLE</td>\n",
       "      <td>6</td>\n",
       "      <td>2010-12-01 08:26:00</td>\n",
       "      <td>3.39</td>\n",
       "      <td>17850</td>\n",
       "      <td>35</td>\n",
       "      <td>20.34</td>\n",
       "      <td>2010</td>\n",
       "      <td>12</td>\n",
       "      <td>48</td>\n",
       "      <td>2</td>\n",
       "      <td>8</td>\n",
       "    </tr>\n",
       "    <tr>\n",
       "      <th>4</th>\n",
       "      <td>536365</td>\n",
       "      <td>2794</td>\n",
       "      <td>RED WOOLLY HOTTIE WHITE HEART.</td>\n",
       "      <td>6</td>\n",
       "      <td>2010-12-01 08:26:00</td>\n",
       "      <td>3.39</td>\n",
       "      <td>17850</td>\n",
       "      <td>35</td>\n",
       "      <td>20.34</td>\n",
       "      <td>2010</td>\n",
       "      <td>12</td>\n",
       "      <td>48</td>\n",
       "      <td>2</td>\n",
       "      <td>8</td>\n",
       "    </tr>\n",
       "  </tbody>\n",
       "</table>\n",
       "</div>"
      ],
      "text/plain": [
       "   InvoiceNo  StockCode                          Description  Quantity  \\\n",
       "0     536365       3233   WHITE HANGING HEART T-LIGHT HOLDER         6   \n",
       "1     536365       2643                  WHITE METAL LANTERN         6   \n",
       "2     536365       2847       CREAM CUPID HEARTS COAT HANGER         8   \n",
       "3     536365       2795  KNITTED UNION FLAG HOT WATER BOTTLE         6   \n",
       "4     536365       2794       RED WOOLLY HOTTIE WHITE HEART.         6   \n",
       "\n",
       "          InvoiceDate  UnitPrice  CustomerID  Country  TotalPrice  Year  \\\n",
       "0 2010-12-01 08:26:00       2.55       17850       35       15.30  2010   \n",
       "1 2010-12-01 08:26:00       3.39       17850       35       20.34  2010   \n",
       "2 2010-12-01 08:26:00       2.75       17850       35       22.00  2010   \n",
       "3 2010-12-01 08:26:00       3.39       17850       35       20.34  2010   \n",
       "4 2010-12-01 08:26:00       3.39       17850       35       20.34  2010   \n",
       "\n",
       "   Month  Week  DayOfWeek  Hour  \n",
       "0     12    48          2     8  \n",
       "1     12    48          2     8  \n",
       "2     12    48          2     8  \n",
       "3     12    48          2     8  \n",
       "4     12    48          2     8  "
      ]
     },
     "execution_count": 202,
     "metadata": {},
     "output_type": "execute_result"
    }
   ],
   "source": [
    "cleaned_retail_data.head()"
   ]
  },
  {
   "cell_type": "code",
   "execution_count": 203,
   "metadata": {},
   "outputs": [],
   "source": [
    "# User features: total purchases, average basket size, recency (days since last purchase)\n",
    "user_total_purchases = cleaned_retail_data.groupby('CustomerID').size()\n",
    "user_avg_basket_size = cleaned_retail_data.groupby('CustomerID')['Quantity'].mean()\n",
    "last_purchase_date = cleaned_retail_data.groupby('CustomerID')['InvoiceDate'].max()\n",
    "recency_days = (cleaned_retail_data['InvoiceDate'].max() - last_purchase_date).dt.days\n",
    "\n",
    "# Item features: total sold, average price, popularity (number of unique buyers)\n",
    "item_total_sold = cleaned_retail_data.groupby('StockCode')['Quantity'].sum()\n",
    "item_avg_price = cleaned_retail_data.groupby('StockCode')['UnitPrice'].mean()\n",
    "item_popularity = cleaned_retail_data.groupby('StockCode')['CustomerID'].nunique()\n",
    "\n",
    "# User-Item interaction features: purchase frequency, last purchase gap\n",
    "user_item_purchase_freq = cleaned_retail_data.groupby(['CustomerID', 'StockCode']).size()\n",
    "last_purchase = cleaned_retail_data.groupby(['CustomerID', 'StockCode'])['InvoiceDate'].max()\n",
    "last_purchase_gap = (cleaned_retail_data['InvoiceDate'].max() - last_purchase).dt.days"
   ]
  },
  {
   "cell_type": "code",
   "execution_count": 204,
   "metadata": {},
   "outputs": [],
   "source": [
    "# Map features back to the main dataframe\n",
    "full_retail_data = cleaned_retail_data.copy()\n",
    "\n",
    "# User features need to be mapped by CustomerID\n",
    "full_retail_data['user_total_purchases'] = full_retail_data['CustomerID'].map(user_total_purchases)\n",
    "full_retail_data['user_avg_basket_size'] = full_retail_data['CustomerID'].map(user_avg_basket_size)\n",
    "full_retail_data['recency_days'] = full_retail_data['CustomerID'].map(recency_days)\n",
    "\n",
    "# Item features need to be mapped by StockCode\n",
    "full_retail_data['item_total_sold'] = full_retail_data['StockCode'].map(item_total_sold)\n",
    "full_retail_data['item_avg_price'] = full_retail_data['StockCode'].map(item_avg_price)\n",
    "full_retail_data['item_popularity'] = full_retail_data['StockCode'].map(item_popularity)\n",
    "\n",
    "# User-item interaction features need to be mapped by (CustomerID, StockCode), so we need to use a MultiIndex map\n",
    "# Convert MultiIndex Series to dict for mapping\n",
    "user_item_freq_dict = user_item_purchase_freq.to_dict()\n",
    "last_purchase_gap_dict = last_purchase_gap.to_dict()\n",
    "# Map using tuple keys\n",
    "full_retail_data['user_item_purchase_freq'] = full_retail_data.apply(\n",
    "    lambda row: user_item_freq_dict.get((row['CustomerID'], row['StockCode']), 0), axis=1)\n",
    "full_retail_data['last_purchase_gap'] = full_retail_data.apply(\n",
    "    lambda row: last_purchase_gap_dict.get((row['CustomerID'], row['StockCode']), recency_days.max()), axis=1)"
   ]
  },
  {
   "cell_type": "code",
   "execution_count": 205,
   "metadata": {},
   "outputs": [
    {
     "data": {
      "text/html": [
       "<div>\n",
       "<style scoped>\n",
       "    .dataframe tbody tr th:only-of-type {\n",
       "        vertical-align: middle;\n",
       "    }\n",
       "\n",
       "    .dataframe tbody tr th {\n",
       "        vertical-align: top;\n",
       "    }\n",
       "\n",
       "    .dataframe thead th {\n",
       "        text-align: right;\n",
       "    }\n",
       "</style>\n",
       "<table border=\"1\" class=\"dataframe\">\n",
       "  <thead>\n",
       "    <tr style=\"text-align: right;\">\n",
       "      <th></th>\n",
       "      <th>InvoiceNo</th>\n",
       "      <th>StockCode</th>\n",
       "      <th>Description</th>\n",
       "      <th>Quantity</th>\n",
       "      <th>InvoiceDate</th>\n",
       "      <th>UnitPrice</th>\n",
       "      <th>CustomerID</th>\n",
       "      <th>Country</th>\n",
       "      <th>TotalPrice</th>\n",
       "      <th>Year</th>\n",
       "      <th>...</th>\n",
       "      <th>DayOfWeek</th>\n",
       "      <th>Hour</th>\n",
       "      <th>user_total_purchases</th>\n",
       "      <th>user_avg_basket_size</th>\n",
       "      <th>recency_days</th>\n",
       "      <th>item_total_sold</th>\n",
       "      <th>item_avg_price</th>\n",
       "      <th>item_popularity</th>\n",
       "      <th>user_item_purchase_freq</th>\n",
       "      <th>last_purchase_gap</th>\n",
       "    </tr>\n",
       "  </thead>\n",
       "  <tbody>\n",
       "    <tr>\n",
       "      <th>0</th>\n",
       "      <td>536365</td>\n",
       "      <td>3233</td>\n",
       "      <td>WHITE HANGING HEART T-LIGHT HOLDER</td>\n",
       "      <td>6</td>\n",
       "      <td>2010-12-01 08:26:00</td>\n",
       "      <td>2.55</td>\n",
       "      <td>17850</td>\n",
       "      <td>35</td>\n",
       "      <td>15.30</td>\n",
       "      <td>2010</td>\n",
       "      <td>...</td>\n",
       "      <td>2</td>\n",
       "      <td>8</td>\n",
       "      <td>297</td>\n",
       "      <td>5.835017</td>\n",
       "      <td>371</td>\n",
       "      <td>36782</td>\n",
       "      <td>2.893106</td>\n",
       "      <td>856</td>\n",
       "      <td>17</td>\n",
       "      <td>371</td>\n",
       "    </tr>\n",
       "    <tr>\n",
       "      <th>1</th>\n",
       "      <td>536365</td>\n",
       "      <td>2643</td>\n",
       "      <td>WHITE METAL LANTERN</td>\n",
       "      <td>6</td>\n",
       "      <td>2010-12-01 08:26:00</td>\n",
       "      <td>3.39</td>\n",
       "      <td>17850</td>\n",
       "      <td>35</td>\n",
       "      <td>20.34</td>\n",
       "      <td>2010</td>\n",
       "      <td>...</td>\n",
       "      <td>2</td>\n",
       "      <td>8</td>\n",
       "      <td>297</td>\n",
       "      <td>5.835017</td>\n",
       "      <td>371</td>\n",
       "      <td>1639</td>\n",
       "      <td>3.768403</td>\n",
       "      <td>149</td>\n",
       "      <td>17</td>\n",
       "      <td>371</td>\n",
       "    </tr>\n",
       "    <tr>\n",
       "      <th>2</th>\n",
       "      <td>536365</td>\n",
       "      <td>2847</td>\n",
       "      <td>CREAM CUPID HEARTS COAT HANGER</td>\n",
       "      <td>8</td>\n",
       "      <td>2010-12-01 08:26:00</td>\n",
       "      <td>2.75</td>\n",
       "      <td>17850</td>\n",
       "      <td>35</td>\n",
       "      <td>22.00</td>\n",
       "      <td>2010</td>\n",
       "      <td>...</td>\n",
       "      <td>2</td>\n",
       "      <td>8</td>\n",
       "      <td>297</td>\n",
       "      <td>5.835017</td>\n",
       "      <td>371</td>\n",
       "      <td>1918</td>\n",
       "      <td>3.816311</td>\n",
       "      <td>133</td>\n",
       "      <td>15</td>\n",
       "      <td>371</td>\n",
       "    </tr>\n",
       "    <tr>\n",
       "      <th>3</th>\n",
       "      <td>536365</td>\n",
       "      <td>2795</td>\n",
       "      <td>KNITTED UNION FLAG HOT WATER BOTTLE</td>\n",
       "      <td>6</td>\n",
       "      <td>2010-12-01 08:26:00</td>\n",
       "      <td>3.39</td>\n",
       "      <td>17850</td>\n",
       "      <td>35</td>\n",
       "      <td>20.34</td>\n",
       "      <td>2010</td>\n",
       "      <td>...</td>\n",
       "      <td>2</td>\n",
       "      <td>8</td>\n",
       "      <td>297</td>\n",
       "      <td>5.835017</td>\n",
       "      <td>371</td>\n",
       "      <td>2469</td>\n",
       "      <td>4.001595</td>\n",
       "      <td>211</td>\n",
       "      <td>17</td>\n",
       "      <td>371</td>\n",
       "    </tr>\n",
       "    <tr>\n",
       "      <th>4</th>\n",
       "      <td>536365</td>\n",
       "      <td>2794</td>\n",
       "      <td>RED WOOLLY HOTTIE WHITE HEART.</td>\n",
       "      <td>6</td>\n",
       "      <td>2010-12-01 08:26:00</td>\n",
       "      <td>3.39</td>\n",
       "      <td>17850</td>\n",
       "      <td>35</td>\n",
       "      <td>20.34</td>\n",
       "      <td>2010</td>\n",
       "      <td>...</td>\n",
       "      <td>2</td>\n",
       "      <td>8</td>\n",
       "      <td>297</td>\n",
       "      <td>5.835017</td>\n",
       "      <td>371</td>\n",
       "      <td>3707</td>\n",
       "      <td>4.054756</td>\n",
       "      <td>228</td>\n",
       "      <td>17</td>\n",
       "      <td>371</td>\n",
       "    </tr>\n",
       "  </tbody>\n",
       "</table>\n",
       "<p>5 rows × 22 columns</p>\n",
       "</div>"
      ],
      "text/plain": [
       "   InvoiceNo  StockCode                          Description  Quantity  \\\n",
       "0     536365       3233   WHITE HANGING HEART T-LIGHT HOLDER         6   \n",
       "1     536365       2643                  WHITE METAL LANTERN         6   \n",
       "2     536365       2847       CREAM CUPID HEARTS COAT HANGER         8   \n",
       "3     536365       2795  KNITTED UNION FLAG HOT WATER BOTTLE         6   \n",
       "4     536365       2794       RED WOOLLY HOTTIE WHITE HEART.         6   \n",
       "\n",
       "          InvoiceDate  UnitPrice  CustomerID  Country  TotalPrice  Year  ...  \\\n",
       "0 2010-12-01 08:26:00       2.55       17850       35       15.30  2010  ...   \n",
       "1 2010-12-01 08:26:00       3.39       17850       35       20.34  2010  ...   \n",
       "2 2010-12-01 08:26:00       2.75       17850       35       22.00  2010  ...   \n",
       "3 2010-12-01 08:26:00       3.39       17850       35       20.34  2010  ...   \n",
       "4 2010-12-01 08:26:00       3.39       17850       35       20.34  2010  ...   \n",
       "\n",
       "   DayOfWeek  Hour  user_total_purchases  user_avg_basket_size  recency_days  \\\n",
       "0          2     8                   297              5.835017           371   \n",
       "1          2     8                   297              5.835017           371   \n",
       "2          2     8                   297              5.835017           371   \n",
       "3          2     8                   297              5.835017           371   \n",
       "4          2     8                   297              5.835017           371   \n",
       "\n",
       "   item_total_sold  item_avg_price  item_popularity  user_item_purchase_freq  \\\n",
       "0            36782        2.893106              856                       17   \n",
       "1             1639        3.768403              149                       17   \n",
       "2             1918        3.816311              133                       15   \n",
       "3             2469        4.001595              211                       17   \n",
       "4             3707        4.054756              228                       17   \n",
       "\n",
       "   last_purchase_gap  \n",
       "0                371  \n",
       "1                371  \n",
       "2                371  \n",
       "3                371  \n",
       "4                371  \n",
       "\n",
       "[5 rows x 22 columns]"
      ]
     },
     "execution_count": 205,
     "metadata": {},
     "output_type": "execute_result"
    }
   ],
   "source": [
    "full_retail_data.head()"
   ]
  },
  {
   "cell_type": "code",
   "execution_count": 207,
   "metadata": {},
   "outputs": [
    {
     "name": "stdout",
     "output_type": "stream",
     "text": [
      "<class 'pandas.core.frame.DataFrame'>\n",
      "Index: 397924 entries, 0 to 541908\n",
      "Data columns (total 22 columns):\n",
      " #   Column                   Non-Null Count   Dtype         \n",
      "---  ------                   --------------   -----         \n",
      " 0   InvoiceNo                397924 non-null  int64         \n",
      " 1   StockCode                397924 non-null  int16         \n",
      " 2   Description              397924 non-null  object        \n",
      " 3   Quantity                 397924 non-null  int64         \n",
      " 4   InvoiceDate              397924 non-null  datetime64[ns]\n",
      " 5   UnitPrice                397924 non-null  float64       \n",
      " 6   CustomerID               397924 non-null  int64         \n",
      " 7   Country                  397924 non-null  int8          \n",
      " 8   TotalPrice               397924 non-null  float64       \n",
      " 9   Year                     397924 non-null  int32         \n",
      " 10  Month                    397924 non-null  int32         \n",
      " 11  Week                     397924 non-null  UInt32        \n",
      " 12  DayOfWeek                397924 non-null  int32         \n",
      " 13  Hour                     397924 non-null  int32         \n",
      " 14  user_total_purchases     397924 non-null  int64         \n",
      " 15  user_avg_basket_size     397924 non-null  float64       \n",
      " 16  recency_days             397924 non-null  int64         \n",
      " 17  item_total_sold          397924 non-null  int64         \n",
      " 18  item_avg_price           397924 non-null  float64       \n",
      " 19  item_popularity          397924 non-null  int64         \n",
      " 20  user_item_purchase_freq  397924 non-null  int64         \n",
      " 21  last_purchase_gap        397924 non-null  int64         \n",
      "dtypes: UInt32(1), datetime64[ns](1), float64(4), int16(1), int32(4), int64(9), int8(1), object(1)\n",
      "memory usage: 57.7+ MB\n"
     ]
    }
   ],
   "source": [
    "full_retail_data.info()"
   ]
  },
  {
   "cell_type": "markdown",
   "metadata": {},
   "source": [
    "Baseline Model"
   ]
  },
  {
   "cell_type": "markdown",
   "metadata": {},
   "source": [
    "Goal: predict the purchase likelihood for user-item pairs\n",
    "\n",
    "First we will try a simple logistic regression model"
   ]
  },
  {
   "cell_type": "markdown",
   "metadata": {},
   "source": [
    "This won't work: the target should be binary however for now we only have positive samples, so we need to generate some negative ones"
   ]
  },
  {
   "cell_type": "code",
   "execution_count": 219,
   "metadata": {},
   "outputs": [],
   "source": [
    "# Add target to positive purchases\n",
    "full_retail_data['y'] = 1\n",
    "\n",
    "# Define features to use\n",
    "feature_cols = [\n",
    "    'user_total_purchases', 'user_avg_basket_size', 'recency_days',\n",
    "    'item_total_sold', 'item_avg_price', 'item_popularity',\n",
    "    'user_item_purchase_freq', 'last_purchase_gap',\n",
    "    'Year', 'Month', 'Week', 'DayOfWeek', 'Hour',\n",
    "    'StockCode', 'Country'\n",
    "]\n",
    "\n",
    "# Keep only features + target\n",
    "pos_samples = full_retail_data[feature_cols + ['y']].copy()"
   ]
  },
  {
   "cell_type": "markdown",
   "metadata": {},
   "source": [
    "Generate negative samples by randomly pairing users with items they haven't purchased\n"
   ]
  },
  {
   "cell_type": "code",
   "execution_count": 220,
   "metadata": {},
   "outputs": [],
   "source": [
    "# Unique users and items\n",
    "users = full_retail_data['CustomerID'].unique()\n",
    "items = full_retail_data['StockCode'].unique()\n",
    "\n",
    "# Sample negative pairs equal in size to positive samples\n",
    "n_neg = len(pos_samples)\n",
    "neg_user_item = pd.DataFrame({\n",
    "    'CustomerID': np.random.choice(users, n_neg),\n",
    "    'StockCode': np.random.choice(items, n_neg)\n",
    "})\n",
    "\n",
    "# Remove existing positive pairs\n",
    "neg_user_item = neg_user_item.merge(\n",
    "    full_retail_data[['CustomerID','StockCode']],\n",
    "    on=['CustomerID','StockCode'],\n",
    "    how='left',\n",
    "    indicator=True\n",
    ")\n",
    "neg_user_item = neg_user_item[neg_user_item['_merge']=='left_only'].drop(columns=['_merge'])\n",
    "neg_user_item['y'] = 0"
   ]
  },
  {
   "cell_type": "markdown",
   "metadata": {},
   "source": [
    "Then map features to negative samples"
   ]
  },
  {
   "cell_type": "code",
   "execution_count": 221,
   "metadata": {},
   "outputs": [],
   "source": [
    "# User features\n",
    "for col in ['user_total_purchases','user_avg_basket_size','recency_days']:\n",
    "    neg_user_item[col] = neg_user_item['CustomerID'].map(\n",
    "        full_retail_data.drop_duplicates('CustomerID').set_index('CustomerID')[col]\n",
    "    )\n",
    "\n",
    "# Item features\n",
    "for col in ['item_total_sold','item_avg_price','item_popularity']:\n",
    "    neg_user_item[col] = neg_user_item['StockCode'].map(\n",
    "        full_retail_data.drop_duplicates('StockCode').set_index('StockCode')[col]\n",
    "    )\n",
    "\n",
    "# User-item interaction features\n",
    "neg_user_item['user_item_purchase_freq'] = 0\n",
    "neg_user_item['last_purchase_gap'] = neg_user_item['CustomerID'].map(\n",
    "    full_retail_data.drop_duplicates('CustomerID').set_index('CustomerID')['recency_days']\n",
    ")\n",
    "\n",
    "# Time features: set to median or arbitrary placeholder\n",
    "for col in ['Year','Month','Week','DayOfWeek','Hour','Country']:\n",
    "    neg_user_item[col] = full_retail_data[col].median()  # or another default"
   ]
  },
  {
   "cell_type": "markdown",
   "metadata": {},
   "source": [
    "And finally combine positive and negative samples"
   ]
  },
  {
   "cell_type": "code",
   "execution_count": 222,
   "metadata": {},
   "outputs": [],
   "source": [
    "model_data = pd.concat([pos_samples, neg_user_item[feature_cols + ['y']]], ignore_index=True)\n",
    "X = model_data[feature_cols]\n",
    "y = model_data['y']"
   ]
  },
  {
   "cell_type": "markdown",
   "metadata": {},
   "source": [
    "Now the target y has both 0s and 1s, so we're ready for train/test split"
   ]
  },
  {
   "cell_type": "code",
   "execution_count": 223,
   "metadata": {},
   "outputs": [],
   "source": [
    "# Train-test split\n",
    "from sklearn.model_selection import train_test_split\n",
    "\n",
    "X_train, X_test, y_train, y_test = train_test_split(X, y, test_size=0.2, random_state=42, stratify=y) # 20% test size, stratify to maintain class balance\n",
    "\n",
    "# Scale features\n",
    "from sklearn.preprocessing import StandardScaler\n",
    "\n",
    "scaler = StandardScaler()\n",
    "X_train_scaled = scaler.fit_transform(X_train)\n",
    "X_test_scaled = scaler.transform(X_test)"
   ]
  },
  {
   "cell_type": "markdown",
   "metadata": {},
   "source": [
    "And defining / training the model"
   ]
  },
  {
   "cell_type": "code",
   "execution_count": 224,
   "metadata": {},
   "outputs": [
    {
     "data": {
      "text/html": [
       "<style>#sk-container-id-1 {color: black;background-color: white;}#sk-container-id-1 pre{padding: 0;}#sk-container-id-1 div.sk-toggleable {background-color: white;}#sk-container-id-1 label.sk-toggleable__label {cursor: pointer;display: block;width: 100%;margin-bottom: 0;padding: 0.3em;box-sizing: border-box;text-align: center;}#sk-container-id-1 label.sk-toggleable__label-arrow:before {content: \"▸\";float: left;margin-right: 0.25em;color: #696969;}#sk-container-id-1 label.sk-toggleable__label-arrow:hover:before {color: black;}#sk-container-id-1 div.sk-estimator:hover label.sk-toggleable__label-arrow:before {color: black;}#sk-container-id-1 div.sk-toggleable__content {max-height: 0;max-width: 0;overflow: hidden;text-align: left;background-color: #f0f8ff;}#sk-container-id-1 div.sk-toggleable__content pre {margin: 0.2em;color: black;border-radius: 0.25em;background-color: #f0f8ff;}#sk-container-id-1 input.sk-toggleable__control:checked~div.sk-toggleable__content {max-height: 200px;max-width: 100%;overflow: auto;}#sk-container-id-1 input.sk-toggleable__control:checked~label.sk-toggleable__label-arrow:before {content: \"▾\";}#sk-container-id-1 div.sk-estimator input.sk-toggleable__control:checked~label.sk-toggleable__label {background-color: #d4ebff;}#sk-container-id-1 div.sk-label input.sk-toggleable__control:checked~label.sk-toggleable__label {background-color: #d4ebff;}#sk-container-id-1 input.sk-hidden--visually {border: 0;clip: rect(1px 1px 1px 1px);clip: rect(1px, 1px, 1px, 1px);height: 1px;margin: -1px;overflow: hidden;padding: 0;position: absolute;width: 1px;}#sk-container-id-1 div.sk-estimator {font-family: monospace;background-color: #f0f8ff;border: 1px dotted black;border-radius: 0.25em;box-sizing: border-box;margin-bottom: 0.5em;}#sk-container-id-1 div.sk-estimator:hover {background-color: #d4ebff;}#sk-container-id-1 div.sk-parallel-item::after {content: \"\";width: 100%;border-bottom: 1px solid gray;flex-grow: 1;}#sk-container-id-1 div.sk-label:hover label.sk-toggleable__label {background-color: #d4ebff;}#sk-container-id-1 div.sk-serial::before {content: \"\";position: absolute;border-left: 1px solid gray;box-sizing: border-box;top: 0;bottom: 0;left: 50%;z-index: 0;}#sk-container-id-1 div.sk-serial {display: flex;flex-direction: column;align-items: center;background-color: white;padding-right: 0.2em;padding-left: 0.2em;position: relative;}#sk-container-id-1 div.sk-item {position: relative;z-index: 1;}#sk-container-id-1 div.sk-parallel {display: flex;align-items: stretch;justify-content: center;background-color: white;position: relative;}#sk-container-id-1 div.sk-item::before, #sk-container-id-1 div.sk-parallel-item::before {content: \"\";position: absolute;border-left: 1px solid gray;box-sizing: border-box;top: 0;bottom: 0;left: 50%;z-index: -1;}#sk-container-id-1 div.sk-parallel-item {display: flex;flex-direction: column;z-index: 1;position: relative;background-color: white;}#sk-container-id-1 div.sk-parallel-item:first-child::after {align-self: flex-end;width: 50%;}#sk-container-id-1 div.sk-parallel-item:last-child::after {align-self: flex-start;width: 50%;}#sk-container-id-1 div.sk-parallel-item:only-child::after {width: 0;}#sk-container-id-1 div.sk-dashed-wrapped {border: 1px dashed gray;margin: 0 0.4em 0.5em 0.4em;box-sizing: border-box;padding-bottom: 0.4em;background-color: white;}#sk-container-id-1 div.sk-label label {font-family: monospace;font-weight: bold;display: inline-block;line-height: 1.2em;}#sk-container-id-1 div.sk-label-container {text-align: center;}#sk-container-id-1 div.sk-container {/* jupyter's `normalize.less` sets `[hidden] { display: none; }` but bootstrap.min.css set `[hidden] { display: none !important; }` so we also need the `!important` here to be able to override the default hidden behavior on the sphinx rendered scikit-learn.org. See: https://github.com/scikit-learn/scikit-learn/issues/21755 */display: inline-block !important;position: relative;}#sk-container-id-1 div.sk-text-repr-fallback {display: none;}</style><div id=\"sk-container-id-1\" class=\"sk-top-container\"><div class=\"sk-text-repr-fallback\"><pre>LogisticRegression(max_iter=1000)</pre><b>In a Jupyter environment, please rerun this cell to show the HTML representation or trust the notebook. <br />On GitHub, the HTML representation is unable to render, please try loading this page with nbviewer.org.</b></div><div class=\"sk-container\" hidden><div class=\"sk-item\"><div class=\"sk-estimator sk-toggleable\"><input class=\"sk-toggleable__control sk-hidden--visually\" id=\"sk-estimator-id-1\" type=\"checkbox\" checked><label for=\"sk-estimator-id-1\" class=\"sk-toggleable__label sk-toggleable__label-arrow\">LogisticRegression</label><div class=\"sk-toggleable__content\"><pre>LogisticRegression(max_iter=1000)</pre></div></div></div></div></div>"
      ],
      "text/plain": [
       "LogisticRegression(max_iter=1000)"
      ]
     },
     "execution_count": 224,
     "metadata": {},
     "output_type": "execute_result"
    }
   ],
   "source": [
    "# Baseline model: Logistic Regression\n",
    "from sklearn.linear_model import LogisticRegression\n",
    "\n",
    "model = LogisticRegression(max_iter=1000)\n",
    "model.fit(X_train_scaled, y_train)"
   ]
  },
  {
   "cell_type": "code",
   "execution_count": 225,
   "metadata": {},
   "outputs": [
    {
     "name": "stderr",
     "output_type": "stream",
     "text": [
      "/Users/adupuy/opt/anaconda3/lib/python3.9/site-packages/sklearn/base.py:443: UserWarning: X has feature names, but LogisticRegression was fitted without feature names\n",
      "  warnings.warn(\n",
      "/Users/adupuy/opt/anaconda3/lib/python3.9/site-packages/sklearn/base.py:443: UserWarning: X has feature names, but LogisticRegression was fitted without feature names\n",
      "  warnings.warn(\n"
     ]
    }
   ],
   "source": [
    "y_pred = model.predict(X_test)\n",
    "y_proba = model.predict_proba(X_test)[:, 1]"
   ]
  },
  {
   "cell_type": "markdown",
   "metadata": {},
   "source": [
    "Evaluating trained model"
   ]
  },
  {
   "cell_type": "code",
   "execution_count": null,
   "metadata": {},
   "outputs": [
    {
     "name": "stdout",
     "output_type": "stream",
     "text": [
      "AUC: 0.7214\n",
      "Accuracy: 0.5760\n",
      "Precision@1000: 0.9960\n"
     ]
    }
   ],
   "source": [
    "# AUC (area under ROC curve): 0.5 is random, 1.0 is perfect\n",
    "from sklearn.metrics import roc_auc_score\n",
    "\n",
    "auc = roc_auc_score(y_test, y_proba)\n",
    "print(f\"AUC: {auc:.4f}\")\n",
    "\n",
    "# Accuracy: fraction of correct predictions\n",
    "from sklearn.metrics import accuracy_score\n",
    "\n",
    "accuracy = accuracy_score(y_test, y_pred)\n",
    "print(f\"Accuracy: {accuracy:.4f}\")\n",
    "\n",
    "# Precision at top k: fraction of true positives in top k predicted probabilities\n",
    "def precision_at_k(y_true, y_proba, k=1000):\n",
    "    # Sort by predicted probability\n",
    "    idx = np.argsort(y_proba)[::-1][:k]\n",
    "    top_k_true = y_true.iloc[idx]\n",
    "    return top_k_true.sum() / k  # fraction of positives in top k\n",
    "\n",
    "p_at_1000 = precision_at_k(y_test.reset_index(drop=True), pd.Series(y_proba), k=1000)\n",
    "print(f\"Precision@1000: {p_at_1000:.4f}\")"
   ]
  },
  {
   "cell_type": "markdown",
   "metadata": {},
   "source": [
    "The model does a good job at identifying the most likely purchases, although accuracy is quite modest"
   ]
  },
  {
   "cell_type": "code",
   "execution_count": null,
   "metadata": {},
   "outputs": [],
   "source": []
  }
 ],
 "metadata": {
  "kaggle": {
   "accelerator": "none",
   "dataSources": [
    {
     "datasetId": 1985,
     "sourceId": 3404,
     "sourceType": "datasetVersion"
    }
   ],
   "dockerImageVersionId": 31153,
   "isGpuEnabled": false,
   "isInternetEnabled": true,
   "language": "python",
   "sourceType": "notebook"
  },
  "kernelspec": {
   "display_name": "base",
   "language": "python",
   "name": "python3"
  },
  "language_info": {
   "codemirror_mode": {
    "name": "ipython",
    "version": 3
   },
   "file_extension": ".py",
   "mimetype": "text/x-python",
   "name": "python",
   "nbconvert_exporter": "python",
   "pygments_lexer": "ipython3",
   "version": "3.9.18"
  }
 },
 "nbformat": 4,
 "nbformat_minor": 4
}
